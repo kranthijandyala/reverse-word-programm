{
 "cells": [
  {
   "cell_type": "markdown",
   "id": "0dff1c0d",
   "metadata": {},
   "source": [
    "# Write a Python program that accepts a word from the user and reverse it.\n"
   ]
  },
  {
   "cell_type": "code",
   "execution_count": 5,
   "id": "13ab45f3",
   "metadata": {},
   "outputs": [
    {
     "name": "stdout",
     "output_type": "stream",
     "text": [
      "enter a wordkranthi\n",
      "The original word kranthi\n",
      "The reverse word ihtnark \n"
     ]
    }
   ],
   "source": [
    "m=input('enter a word')\n",
    "n=\" \"\n",
    "for i in m:\n",
    "    n=i+n\n",
    "print(\"The original word\", m)\n",
    "print(\"The reverse word\", n)"
   ]
  },
  {
   "cell_type": "code",
   "execution_count": null,
   "id": "d2a25260",
   "metadata": {},
   "outputs": [],
   "source": []
  }
 ],
 "metadata": {
  "kernelspec": {
   "display_name": "Python 3 (ipykernel)",
   "language": "python",
   "name": "python3"
  },
  "language_info": {
   "codemirror_mode": {
    "name": "ipython",
    "version": 3
   },
   "file_extension": ".py",
   "mimetype": "text/x-python",
   "name": "python",
   "nbconvert_exporter": "python",
   "pygments_lexer": "ipython3",
   "version": "3.9.13"
  }
 },
 "nbformat": 4,
 "nbformat_minor": 5
}
